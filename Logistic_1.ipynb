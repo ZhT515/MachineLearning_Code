{
 "cells": [
  {
   "cell_type": "code",
   "execution_count": 2,
   "id": "3610dbc9-e742-4373-99ff-b254e3d184e3",
   "metadata": {},
   "outputs": [],
   "source": [
    "##  基础函数库\n",
    "import numpy as np \n",
    "\n",
    "## 导入画图库\n",
    "import matplotlib.pyplot as plt\n",
    "import seaborn as sns\n",
    "\n",
    "## 导入逻辑回归模型函数\n",
    "from sklearn.linear_model import LogisticRegression\n",
    "\n",
    "##Demo演示LogisticRegression分类\n"
   ]
  },
  {
   "cell_type": "markdown",
   "id": "42e3a290-f45a-4da5-8342-f21d63202145",
   "metadata": {},
   "source": [
    "#模型训练"
   ]
  },
  {
   "cell_type": "code",
   "execution_count": 3,
   "id": "27bc7f59-9675-4c3c-8c81-d3bcc921d06e",
   "metadata": {},
   "outputs": [],
   "source": [
    "x_fearures = np.array([[-1, -2], [-2, -1], [-3, -2], [1, 3], [2, 1], [3, 2]])"
   ]
  },
  {
   "cell_type": "code",
   "execution_count": 4,
   "id": "ce55c24e-d6a6-4fa4-9f31-8c6427089f9d",
   "metadata": {},
   "outputs": [
    {
     "data": {
      "text/plain": [
       "array([[-1, -2],\n",
       "       [-2, -1],\n",
       "       [-3, -2],\n",
       "       [ 1,  3],\n",
       "       [ 2,  1],\n",
       "       [ 3,  2]])"
      ]
     },
     "execution_count": 4,
     "metadata": {},
     "output_type": "execute_result"
    }
   ],
   "source": [
    "x_fearures##建立二维数组，一维数组"
   ]
  },
  {
   "cell_type": "code",
   "execution_count": 5,
   "id": "a441fd2e-7ee1-43b6-a471-0f543a77ff2a",
   "metadata": {},
   "outputs": [
    {
     "data": {
      "text/plain": [
       "array([0, 0, 0, 1, 1, 1])"
      ]
     },
     "execution_count": 5,
     "metadata": {},
     "output_type": "execute_result"
    }
   ],
   "source": [
    "y_label = np.array([0, 0, 0, 1, 1, 1])\n",
    "y_label"
   ]
  },
  {
   "cell_type": "code",
   "execution_count": 6,
   "id": "d76256cd-af11-4756-8494-bd5ee01760f8",
   "metadata": {},
   "outputs": [],
   "source": [
    "## 调用逻辑回归模型\n",
    "lr_clf = LogisticRegression()"
   ]
  },
  {
   "cell_type": "code",
   "execution_count": 7,
   "id": "c573298c-297b-4fbb-9100-849880a3e3bd",
   "metadata": {},
   "outputs": [],
   "source": [
    "## 用逻辑回归模型拟合构造的数据集           调用fit(x,y)的方法来训练模型，其中x为数据的属性，y为所属类型。\n",
    "lr_clf = lr_clf.fit(x_fearures, y_label)          #其拟合方程为 y=w0+w1*x1+w2*x2"
   ]
  },
  {
   "cell_type": "code",
   "execution_count": 8,
   "id": "1adb2a08-8869-41e6-9cf2-2864aa272c79",
   "metadata": {},
   "outputs": [
    {
     "name": "stdout",
     "output_type": "stream",
     "text": [
      "the weight of Logistic Regression: [[0.73455784 0.69539712]] [-0.13139986]\n"
     ]
    }
   ],
   "source": [
    "## 查看其对应模型的w\n",
    "print('the weight of Logistic Regression:',lr_clf.coef_, lr_clf.intercept_)\n",
    "\n",
    "\n",
    "##coef_为w1到w4\n",
    "\n",
    "##intercept_为w0"
   ]
  },
  {
   "cell_type": "code",
   "execution_count": 9,
   "id": "288b4da8-3c6e-4b23-81be-b6c2faa667d3",
   "metadata": {},
   "outputs": [
    {
     "data": {
      "text/plain": [
       "<Figure size 432x288 with 0 Axes>"
      ]
     },
     "execution_count": 9,
     "metadata": {},
     "output_type": "execute_result"
    },
    {
     "data": {
      "text/plain": [
       "<Figure size 432x288 with 0 Axes>"
      ]
     },
     "metadata": {},
     "output_type": "display_data"
    }
   ],
   "source": [
    "plt.figure()        #通过new_figure_manager（新图形管理器）返回一个figure图形实例。定制的figure类将与pylab接口进行关联，同时将相关参数传递给figure的初始化函数。 "
   ]
  },
  {
   "cell_type": "code",
   "execution_count": 10,
   "id": "665dae12-6c0b-412d-b3ea-2e0564637ed5",
   "metadata": {},
   "outputs": [
    {
     "data": {
      "image/png": "[encoded data removed]",
      "text/plain": [
       "<Figure size 432x288 with 1 Axes>"
      ]
     },
     "metadata": {
      "needs_background": "light"
     },
     "output_type": "display_data"
    }
   ],
   "source": [
    "plt.scatter(x_fearures[:,0],x_fearures[:,1], c=y_label, s=50, cmap='viridis')  \n",
    "#绘制散点图 x: xy:_fearures[:,0]左边，y: xy:_fearures[:,1]右边，\n",
    "#c → 散点的颜色（默认值为蓝色，'b'，其余颜色同plt.plot( )\n",
    "#s → 散点的面积\n",
    "#cmap → 指的是matplotlib.colors.Colormap，相当于多个调色盘的合集，这里从cmap中选取了一个叫做'viridis'的调色盘，其作用是，将参数c中获取到的数值，映射到“色盘”中已经对应好的颜色上\n",
    "plt.title('Dataset')     #标题\n",
    "plt.show()               #展示"
   ]
  },
  {
   "cell_type": "code",
   "execution_count": 11,
   "id": "510630cd-f872-4ede-b30b-032d91c1250b",
   "metadata": {},
   "outputs": [
    {
     "data": {
      "image/png": "[encoded data removed]",
      "text/plain": [
       "<Figure size 432x288 with 1 Axes>"
      ]
     },
     "metadata": {
      "needs_background": "light"
     },
     "output_type": "display_data"
    }
   ],
   "source": [
    "# 可视化决策边界\n",
    "plt.figure()\n",
    "plt.scatter(x_fearures[:,0],x_fearures[:,1], c=y_label, s=50, cmap='viridis')\n",
    "plt.title('Dataset')\n",
    "\n",
    "nx, ny = 200, 100\n",
    "#点的个数\n",
    "x_min, x_max = plt.xlim() \n",
    "#xmin：x轴上的最小值\n",
    "#xmax：x轴上的最大值\n",
    "y_min, y_max = plt.ylim()\n",
    "\n",
    "\n",
    "x_grid, y_grid = np.meshgrid(np.linspace(x_min, x_max, nx),np.linspace(y_min, y_max, ny))\n",
    "#np.linspace(x_min, x_max, nx)  在指定的间隔内返回均匀间隔的数字。 返回num均匀分布的样本，在[start, stop]。\n",
    "#np.meshgrid生成网格点坐标矩阵：坐标矩阵——横坐标矩阵X XX中的每个元素，与纵坐标矩阵Y YY中对应位置元素，共同构成一个点的完整坐标。\n",
    "#x_grid, y_grid 存储坐标矩阵\n",
    "\n",
    "z_proba = lr_clf.predict_proba(np.c_[x_grid.ravel(), y_grid.ravel()])\n",
    "#ravel()方法将数组维度拉成一维数组\n",
    "#np.c_是按行连接两个矩阵，就是把两矩阵左右相加，要求行数相等。把[x,y]按顺序拉成一个一维数组       np.r_是按列连接两个矩阵，就是把两矩阵上下相加，要求列数相等。\n",
    "#lr_clf.predict_proba的是一个 n 行 k 列的数组， 第 i 行 第 j 列上的数值是模型预测 第 i 个预测样本为某个标签的概率，并且每一行的概率和为1，有多少个分类结果，每行就有多少个概率，以至于它对每个结果都有一个可能，如0、1就有两个概率\n",
    "#这个就是对每个坐标进行预测，结果存在数组中，每个元素由两种组成，因为有0和1两个可能。\n",
    "\n",
    "z_proba = z_proba[:, 1].reshape(x_grid.shape)\n",
    "#shape的输入参数可以是一个整数（表示维度），也可以是一个矩阵。读取矩阵的长度，比如shape[0]就是读取矩阵第一维度的长度。这里返回的是1，N\n",
    "##从索引0开始，到索引1，不包括索引1\n",
    "\n",
    "#reshape(a, b); 依次生成n个自然数，并且以a行b列的数组形式显示:\n",
    "\n",
    "plt.contour(x_grid, y_grid, z_proba,[0.5], linewidths=2, colors='blue')\n",
    "#绘制轮廓线，类于等高线 [0.5],概率是0.5的线的位置\n",
    "#X，Y ：值Z的坐标。\n",
    "#如果int Ñ，使用Ñ数据间隔; 即绘制n + 1个等高线。水平高度自动选择。\n",
    "#如果是数组，则在指定的级别绘制轮廓线。值必须按递增顺序排列。\n",
    "#[0.5],只画0.5的线\n",
    "#其训练得到的逻辑回归模型的概率为0.5的判别面为上图中蓝色的线\n",
    "\n",
    "plt.show()"
   ]
  },
  {
   "cell_type": "code",
   "execution_count": 12,
   "id": "47d117cf-544d-42cc-b4b5-f001bfb96fa5",
   "metadata": {},
   "outputs": [
    {
     "data": {
      "image/png": "[encoded data removed]",
      "text/plain": [
       "<Figure size 432x288 with 1 Axes>"
      ]
     },
     "metadata": {
      "needs_background": "light"
     },
     "output_type": "display_data"
    }
   ],
   "source": [
    "### 可视化预测新样本\n",
    "\n",
    "plt.figure()\n",
    "## new point 1\n",
    "x_fearures_new1 = np.array([[0, -1]])\n",
    "plt.scatter(x_fearures_new1[:,0],x_fearures_new1[:,1], s=50, cmap='viridis')\n",
    "plt.annotate(text='New point 1',xy=(0,-1),xytext=(-2,0),color='blue',arrowprops=dict(arrowstyle='-|>',connectionstyle='arc3',color='red'))\n",
    "#函数用于标注文字。s 为注释文本内容,s 为注释文本内容,xytext 为注释文字的坐标位置,arrowprops #箭头参数,参数类型为字典dict\n",
    "\n",
    "## new point 2\n",
    "x_fearures_new2 = np.array([[1, 2]])\n",
    "plt.scatter(x_fearures_new2[:,0],x_fearures_new2[:,1], s=50, cmap='viridis')\n",
    "plt.annotate(text='New point 2',xy=(1,2),xytext=(-1.5,2.5),color='red',arrowprops=dict(arrowstyle='-|>',connectionstyle='arc3',color='red'))\n",
    "\n",
    "## 训练样本\n",
    "plt.scatter(x_fearures[:,0],x_fearures[:,1], c=y_label, s=50, cmap='viridis')\n",
    "plt.title('Dataset')\n",
    "\n",
    "# 可视化决策边界\n",
    "plt.contour(x_grid, y_grid, z_proba, [0.5], linewidths=2., colors='blue')\n",
    "\n",
    "plt.show()"
   ]
  },
  {
   "cell_type": "markdown",
   "id": "c8b174c5-9072-4fd3-a9a5-23fd9cda54a1",
   "metadata": {},
   "source": [
    "模型预测"
   ]
  },
  {
   "cell_type": "code",
   "execution_count": 13,
   "id": "e241a7d5-dae4-41e5-9597-ba1ab66a0646",
   "metadata": {},
   "outputs": [
    {
     "name": "stdout",
     "output_type": "stream",
     "text": [
      "The New point 1 predict class:\n",
      " [0]\n",
      "The New point 2 predict class:\n",
      " [1]\n"
     ]
    }
   ],
   "source": [
    "## 在训练集和测试集上分别利用训练好的模型进行预测\n",
    "y_label_new1_predict = lr_clf.predict(x_fearures_new1)\n",
    "y_label_new2_predict = lr_clf.predict(x_fearures_new2)\n",
    "#predict返回的是一个预测的值\n",
    "#lr_clf模型\n",
    "\n",
    "\n",
    "print('The New point 1 predict class:\\n',y_label_new1_predict)\n",
    "print('The New point 2 predict class:\\n',y_label_new2_predict)"
   ]
  },
  {
   "cell_type": "code",
   "execution_count": 15,
   "id": "9bb4e29f-88f6-4422-81ad-755479ac96c1",
   "metadata": {},
   "outputs": [
    {
     "name": "stdout",
     "output_type": "stream",
     "text": [
      "The New point 1 predict Probability of each class:\n",
      " [[0.69567724 0.30432276]]\n",
      "The New point 2 predict Probability of each class:\n",
      " [[0.11983936 0.88016064]]\n"
     ]
    }
   ],
   "source": [
    "y_label_new1_predict_proba = lr_clf.predict_proba(x_fearures_new1)\n",
    "y_label_new2_predict_proba = lr_clf.predict_proba(x_fearures_new2)\n",
    "#两个可能的概率\n",
    "\n",
    "\n",
    "print('The New point 1 predict Probability of each class:\\n',y_label_new1_predict_proba)\n",
    "print('The New point 2 predict Probability of each class:\\n',y_label_new2_predict_proba)"
   ]
  },
  {
   "cell_type": "markdown",
   "id": "b217a9df-a0b8-4e90-b761-f273f35c9398",
   "metadata": {},
   "source": [
    "可以发现训练好的回归模型将X_new1预测为了类别0（判别面左下侧），X_new2预测为了类别1（判别面右上侧）。其训练得到的逻辑回归模型的概率为0.5的判别面为上图中蓝色的线。"
   ]
  }
 ],
 "metadata": {
  "kernelspec": {
   "display_name": "Python 3",
   "language": "python",
   "name": "python3"
  },
  "language_info": {
   "codemirror_mode": {
    "name": "ipython",
    "version": 3
   },
   "file_extension": ".py",
   "mimetype": "text/x-python",
   "name": "python",
   "nbconvert_exporter": "python",
   "pygments_lexer": "ipython3",
   "version": "3.8.8"
  }
 },
 "nbformat": 4,
 "nbformat_minor": 5
}
